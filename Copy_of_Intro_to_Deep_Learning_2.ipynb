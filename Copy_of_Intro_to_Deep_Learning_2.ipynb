{
  "nbformat": 4,
  "nbformat_minor": 0,
  "metadata": {
    "colab": {
      "name": "Copy of Intro to Deep Learning 2",
      "version": "0.3.2",
      "provenance": [],
      "collapsed_sections": [],
      "include_colab_link": true
    },
    "kernelspec": {
      "name": "python3",
      "display_name": "Python 3"
    },
    "accelerator": "GPU"
  },
  "cells": [
    {
      "cell_type": "markdown",
      "metadata": {
        "id": "view-in-github",
        "colab_type": "text"
      },
      "source": [
        "<a href=\"https://colab.research.google.com/github/pgellert/workshop-deep-learning/blob/master/Copy_of_Intro_to_Deep_Learning_2.ipynb\" target=\"_parent\"><img src=\"https://colab.research.google.com/assets/colab-badge.svg\" alt=\"Open In Colab\"/></a>"
      ]
    },
    {
      "metadata": {
        "id": "lDupTkzbZity",
        "colab_type": "text"
      },
      "cell_type": "markdown",
      "source": [
        "# Intro to Deep Learning 2\n",
        "\n",
        "This is the notebook accompanying the second Hackers at Cambridge Deep Learning workshop.\n",
        "In this workshop, you'll implement your own *convolutional neural network* using the **Keras** deep learning framework.\n"
      ]
    },
    {
      "metadata": {
        "id": "1r64tZrRZ8OP",
        "colab_type": "text"
      },
      "cell_type": "markdown",
      "source": [
        "First, let's import dependencies:"
      ]
    },
    {
      "metadata": {
        "id": "Rzn5B0GbZfIC",
        "colab_type": "code",
        "outputId": "c45d48b3-f46e-4c80-9284-ce148c489ae2",
        "colab": {
          "base_uri": "https://localhost:8080/",
          "height": 34
        }
      },
      "cell_type": "code",
      "source": [
        "\n",
        "#import the keras functions\n",
        "from keras.models import Model, Sequential\n",
        "from keras.layers import Conv2D, MaxPooling2D, Input, Flatten, Dense\n",
        "from keras.optimizers import Adam\n",
        "from  keras.utils import to_categorical as OneHotEncode\n",
        "from keras import backend as K\n",
        "#numpy to manipulate arrays\n",
        "import numpy as np\n",
        "#to visualise outputs\n",
        "import matplotlib.pyplot as plt\n",
        "#import the MNIST dataset\n",
        "from keras.datasets import mnist\n",
        "\n"
      ],
      "execution_count": 1,
      "outputs": [
        {
          "output_type": "stream",
          "text": [
            "Using TensorFlow backend.\n"
          ],
          "name": "stderr"
        }
      ]
    },
    {
      "metadata": {
        "id": "OJZ_1oN4cAVX",
        "colab_type": "text"
      },
      "cell_type": "markdown",
      "source": [
        "## Reading In the Data:\n",
        "\n",
        "As in the first workshop, you'll want to load in the data, using a nice **load data()** function.\n",
        "\n",
        "First, we'll reshape the input x_train and x_test into a *(num_examples, width, height, number of channels)* dimensional array.\n",
        "\n",
        "For MNIST, the input image is of size 28x28 and it is greyscale so number of channels =1. \n",
        "\n",
        "We then want to normalise the values - since pixels are in range [0...255], divide by 255 to get them in range [0...1]\n",
        "\n",
        "Finally, we want to **one-hot encode** our output labels y_train and y_test.\n",
        "\n",
        "### Useful Functions:\n",
        "    A = np.reshape(A, (b,c,d)) # reshapes A into a b x c x d array - (b,c,d) = tuple of dimensions\n",
        "    \n",
        "    OneHotEncode(input array, num_classes ) #returns the one hot encoded output\n",
        "    "
      ]
    },
    {
      "metadata": {
        "id": "LQQF2bVhcBOU",
        "colab_type": "code",
        "colab": {}
      },
      "cell_type": "code",
      "source": [
        "  #Load in the data\n",
        "(x_train, y_train), (x_test, y_test) = mnist.load_data()\n",
        "\n",
        "\n",
        "num_classes = 10\n",
        "num_train_examples = x_train.shape[0]\n",
        "num_test_examples = x_test.shape[0]\n",
        "\n",
        "# reshape array so dims are (num_examples, 28, 28, 1)\n",
        "x_train = np.reshape(x_train, (num_train_examples, 28, 28, 1))\n",
        "x_test = np.reshape(x_test, (num_test_examples, 28, 28, 1))\n",
        "\n",
        "# divide both arrays by 255 (to normalise from [0..255] to [0..1])\n",
        "x_train= x_train/255\n",
        "x_test = x_test/255\n",
        "\n",
        "#one hot encode \n",
        "y_train = OneHotEncode(y_train, num_classes)\n",
        "y_test = OneHotEncode(y_test, num_classes)"
      ],
      "execution_count": 0,
      "outputs": []
    },
    {
      "metadata": {
        "id": "P43cvuiMarfY",
        "colab_type": "text"
      },
      "cell_type": "markdown",
      "source": [
        "## Creating the model:\n",
        "          \n",
        "Keras is a high level deep learning framework that makes it really easy to create our own model - in this workshop we will be using the **Sequential API**. \n",
        "\n",
        "There are four steps to creating a model in Keras:\n",
        " * Define \n",
        " * Compile\n",
        " * Fit\n",
        " * Evaluate\n",
        " \n",
        " \n",
        " We'll look at each stage in turn:"
      ]
    },
    {
      "metadata": {
        "id": "46qW6kLAkipt",
        "colab_type": "text"
      },
      "cell_type": "markdown",
      "source": [
        "### Define the model:\n",
        "\n",
        "This is where we specify the layers in our model.\n",
        "\n",
        "We are using the Sequential API so to start we'll define the model:\n",
        "\n",
        "      model = Sequential()\n",
        "      \n",
        "This is the base to start on. We can then sequentially add the layers to the model using \n",
        "\n",
        "            model.add(layer object)\n",
        "      \n",
        " the layerr objects are either\n",
        " \n",
        " * Conv2D() (convolution layer) \n",
        " * MaxPooling2D()\n",
        " * Flatten() - this takes the output of the last layer and flattens it to pass into a fully-connected layer\n",
        " * Dense() - this is a fully-connected layer\n",
        " \n",
        " so you might have:\n",
        " \n",
        "          model = Sequential()\n",
        "          model.add(Dense(units=128, activation='relu'))\n",
        "          model.add(Dense(units=10, activation='softmax'))\n",
        " \n",
        " and now  *model* would be a 2 layer neural network.\n",
        " \n",
        " The layers take in different arguments - in the example above Dense() took arguments the number of neurons (128, 10 respectively) and the activation function used. \n",
        " \n",
        " To summarise the main arguments passed in: \n",
        "       \n",
        "       input_shape = __ #for the first layer\n",
        "\n",
        " \n",
        "[Conv2D](https://keras.io/layers/convolutional/#conv2d)takes in parameters:\n",
        "\n",
        "      kernel_size=(f,f) #specifying an fxf filter typically f=1,3,5,7\n",
        "      strides=(a,a ) #specifying a stride of a (this is typically 1)\n",
        "      padding='same' # this is either 'same' (zero-pad) or 'valid' (no padding)\n",
        "      filters=x #x is number of filters\n",
        "      activation='relu'\n",
        "      \n",
        "[MaxPooling2D](https://keras.io/layers/pooling/#maxpooling2d) has\n",
        "      \n",
        "      pool_size=(2, 2) # the size of patch used (2x2 is default for pretty much everything)\n",
        "      \n",
        "[Dense](https://keras.io/layers/core/#dense) has \n",
        "\n",
        "              units=n # number of neurons in layer\n",
        "              activation = __ #  'relu', 'softmax', 'sigmoid', 'tanh' are possible activations\n",
        "              "
      ]
    },
    {
      "metadata": {
        "id": "y5sMido3anfY",
        "colab_type": "code",
        "colab": {}
      },
      "cell_type": "code",
      "source": [
        "def initCNN(input_shape, num_classes):\n",
        "    #initialise a model\n",
        "    model = model = Sequential()\n",
        "    model.add(Conv2D(input_shape=input_shape, kernel_size=(3,3),strides=(1,1), padding='same', filters=16, activation='relu'))\n",
        "    model.add(MaxPooling2D(pool_size=(2, 2)))\n",
        "    model.add(Conv2D(kernel_size=(3,3),strides=(1,1), padding='same', filters=32, activation='relu'))\n",
        "    model.add(MaxPooling2D(pool_size=(2, 2)))\n",
        "    model.add(Flatten())\n",
        "    model.add(Dense(units=128, activation='relu'))\n",
        "    model.add(Dense(units=num_classes, activation='softmax'))\n",
        "    return model\n",
        "\n"
      ],
      "execution_count": 0,
      "outputs": []
    },
    {
      "metadata": {
        "id": "2AwmpwYPPWQO",
        "colab_type": "code",
        "outputId": "6f84541b-3095-46a5-acec-7d9f2bb19186",
        "colab": {
          "base_uri": "https://localhost:8080/",
          "height": 374
        }
      },
      "cell_type": "code",
      "source": [
        "convNet = initCNN(x_train[0].shape, num_classes)\n",
        "convNet.summary() #print the description of the layers in the model"
      ],
      "execution_count": 4,
      "outputs": [
        {
          "output_type": "stream",
          "text": [
            "_________________________________________________________________\n",
            "Layer (type)                 Output Shape              Param #   \n",
            "=================================================================\n",
            "conv2d_1 (Conv2D)            (None, 28, 28, 16)        160       \n",
            "_________________________________________________________________\n",
            "max_pooling2d_1 (MaxPooling2 (None, 14, 14, 16)        0         \n",
            "_________________________________________________________________\n",
            "conv2d_2 (Conv2D)            (None, 14, 14, 32)        4640      \n",
            "_________________________________________________________________\n",
            "max_pooling2d_2 (MaxPooling2 (None, 7, 7, 32)          0         \n",
            "_________________________________________________________________\n",
            "flatten_1 (Flatten)          (None, 1568)              0         \n",
            "_________________________________________________________________\n",
            "dense_1 (Dense)              (None, 128)               200832    \n",
            "_________________________________________________________________\n",
            "dense_2 (Dense)              (None, 10)                1290      \n",
            "=================================================================\n",
            "Total params: 206,922\n",
            "Trainable params: 206,922\n",
            "Non-trainable params: 0\n",
            "_________________________________________________________________\n"
          ],
          "name": "stdout"
        }
      ]
    },
    {
      "metadata": {
        "id": "MLlT9HE3o2-w",
        "colab_type": "text"
      },
      "cell_type": "markdown",
      "source": [
        "### Compiling the Model:\n",
        "\n",
        "This is where we specify the loss function we are using, the optimizer we are using and the metrics we want to track when training, as well as a bunch of other information pertaining to training.\n",
        "\n",
        "        model.compile(arguments)\n",
        "        \n",
        " where the arguments we are interested in are\n",
        " \n",
        "      loss='categorical_crossentropy',\n",
        "      optimizer='sgd',\n",
        "       metrics=['accuracy']\n",
        "       \n",
        "       \n",
        "       \n",
        " 'sgd' stands for Stochastic Gradient Descent - this is a variant of gradient descent where we feed the training data to the model in **batches** rather than giving it all at once"
      ]
    },
    {
      "metadata": {
        "id": "03QAcRS2ebkz",
        "colab_type": "code",
        "colab": {}
      },
      "cell_type": "code",
      "source": [
        "#compile the model\n",
        "convNet.compile(loss='categorical_crossentropy',\n",
        "  optimizer='sgd',\n",
        "   metrics=['accuracy'])"
      ],
      "execution_count": 0,
      "outputs": []
    },
    {
      "metadata": {
        "id": "Dboac99SpXv_",
        "colab_type": "text"
      },
      "cell_type": "markdown",
      "source": [
        "### Fitting the model\n",
        "\n",
        "This is where we actually train our model, feel free to alter the hyperparameters (e.g. number of epochs to train it for longer etc.)\n",
        "\n",
        "      model.fit(x=, y=, epochs=, batch_size=, validation_data=(x_test, y_test))\n",
        "\n",
        "x, y are the training set\n",
        "\n",
        "The validation_data argument takes as input the **validation dataset**. Here we have split the dataset into train:test split, however typically we would split into train:validation:test - and the purpose of the validation data is to tune the hyperparameters (so we try to maximise performance on the validation data set).\n",
        "\n",
        "For today, we'll just use x_test, y_test, though I encourage you (as an extension) to split the data up so you have a separate validation set.\n"
      ]
    },
    {
      "metadata": {
        "id": "ZtX63q0IfOH5",
        "colab_type": "code",
        "colab": {
          "base_uri": "https://localhost:8080/",
          "height": 323
        },
        "outputId": "b8e9ecac-d831-4d30-977f-7da0dc1bc2b4"
      },
      "cell_type": "code",
      "source": [
        "#fit the model \n",
        "convNet.fit(x=x_train, y=y_train, epochs=8, batch_size=32, validation_data=(x_test, y_test))"
      ],
      "execution_count": 6,
      "outputs": [
        {
          "output_type": "stream",
          "text": [
            "Train on 60000 samples, validate on 10000 samples\n",
            "Epoch 1/8\n",
            "60000/60000 [==============================] - 14s 234us/step - loss: 0.5368 - acc: 0.8420 - val_loss: 0.2062 - val_acc: 0.9346\n",
            "Epoch 2/8\n",
            "60000/60000 [==============================] - 12s 206us/step - loss: 0.1573 - acc: 0.9526 - val_loss: 0.1154 - val_acc: 0.9648\n",
            "Epoch 3/8\n",
            "60000/60000 [==============================] - 12s 204us/step - loss: 0.1043 - acc: 0.9688 - val_loss: 0.0774 - val_acc: 0.9761\n",
            "Epoch 4/8\n",
            "60000/60000 [==============================] - 12s 205us/step - loss: 0.0816 - acc: 0.9752 - val_loss: 0.0648 - val_acc: 0.9796\n",
            "Epoch 5/8\n",
            "60000/60000 [==============================] - 12s 205us/step - loss: 0.0684 - acc: 0.9785 - val_loss: 0.0564 - val_acc: 0.9810\n",
            "Epoch 6/8\n",
            "60000/60000 [==============================] - 12s 205us/step - loss: 0.0594 - acc: 0.9819 - val_loss: 0.0545 - val_acc: 0.9821\n",
            "Epoch 7/8\n",
            "60000/60000 [==============================] - 12s 203us/step - loss: 0.0526 - acc: 0.9835 - val_loss: 0.0480 - val_acc: 0.9829\n",
            "Epoch 8/8\n",
            "60000/60000 [==============================] - 12s 204us/step - loss: 0.0469 - acc: 0.9852 - val_loss: 0.0487 - val_acc: 0.9842\n"
          ],
          "name": "stdout"
        },
        {
          "output_type": "execute_result",
          "data": {
            "text/plain": [
              "<keras.callbacks.History at 0x7f1a37c64fd0>"
            ]
          },
          "metadata": {
            "tags": []
          },
          "execution_count": 6
        }
      ]
    },
    {
      "metadata": {
        "id": "Ze1fQ34RqNhL",
        "colab_type": "text"
      },
      "cell_type": "markdown",
      "source": [
        "### Evaluating the model\n",
        "\n",
        "Finally, we can use the model.evaluate function to evaluate how well the model has done on the test set. Here x, y are the test set inputs/labels respectively.\n",
        "\n",
        "        loss, accuracy = model.evaluate(x=, y=)\n",
        "        \n",
        "   "
      ]
    },
    {
      "metadata": {
        "id": "LcIyx1IwhYii",
        "colab_type": "code",
        "colab": {
          "base_uri": "https://localhost:8080/",
          "height": 34
        },
        "outputId": "46545eee-e06e-412f-da64-1fbcc6768f09"
      },
      "cell_type": "code",
      "source": [
        "# calculate the accuracy\n",
        "loss, accuracy = convNet.evaluate(x=x_test, y=y_test)"
      ],
      "execution_count": 8,
      "outputs": [
        {
          "output_type": "stream",
          "text": [
            "10000/10000 [==============================] - 1s 80us/step\n"
          ],
          "name": "stdout"
        }
      ]
    },
    {
      "metadata": {
        "id": "JrSiGGSVOjQk",
        "colab_type": "text"
      },
      "cell_type": "markdown",
      "source": [
        "## Visualise the activations:\n",
        "\n",
        "\n",
        "If you're curious to see the internals of a CNN, this code prints out the intermediate outputs of the network."
      ]
    },
    {
      "metadata": {
        "id": "iq41NFsKOqHC",
        "colab_type": "code",
        "outputId": "fc9fc078-f791-4913-fc18-44672eb1c375",
        "colab": {
          "base_uri": "https://localhost:8080/",
          "height": 368
        }
      },
      "cell_type": "code",
      "source": [
        "#choose a random integer\n",
        "image = x_test[np.random.randint(0,x_test.shape[0])]\n",
        "image = np.reshape(image, (1,28,28,1))\n",
        "\n",
        "# this is a lambda function that takes input convNet.layers[0].input and returns a list of the outputs for each of the layers.\n",
        "get_layers_outputs = K.function([convNet.layers[0].input],\n",
        "                                  [convNet.layers[i].output for i in range(len(convNet.layers))])\n",
        "\n",
        "\n",
        "layers_outputs = get_layers_outputs([image])\n",
        "\n",
        "\n",
        "#plot the outputs\n",
        "fig, ax = plt.subplots(1,1+len(layers_outputs))\n",
        "ax[0].imshow(image[0,:,:,0], cmap='gray')\n",
        "\n",
        "for i, output in enumerate(layers_outputs):\n",
        "  if len(output.shape)==4:\n",
        "    #pick random activation map\n",
        "    ax[i+1].imshow(output[0,:,:,np.random.randint(0,output.shape[-1])], cmap='gray')\n",
        "  else: #dense layer\n",
        "    ax[i+1].imshow(output.T,cmap='gray')\n",
        "\n",
        "print(\"The predicted output is: \" + str(np.argmax(convNet.predict(image))))"
      ],
      "execution_count": 10,
      "outputs": [
        {
          "output_type": "stream",
          "text": [
            "The predicted output is: 7\n"
          ],
          "name": "stdout"
        },
        {
          "output_type": "display_data",
          "data": {
            "image/png": "[encoded data removed]",
            "text/plain": [
              "<matplotlib.figure.Figure at 0x7f1a319014a8>"
            ]
          },
          "metadata": {
            "tags": []
          }
        }
      ]
    },
    {
      "metadata": {
        "id": "7xMleUKkwFRE",
        "colab_type": "code",
        "colab": {}
      },
      "cell_type": "code",
      "source": [
        ""
      ],
      "execution_count": 0,
      "outputs": []
    },
    {
      "metadata": {
        "id": "NqrH_Ss0zkOb",
        "colab_type": "code",
        "colab": {}
      },
      "cell_type": "code",
      "source": [
        ""
      ],
      "execution_count": 0,
      "outputs": []
    }
  ]
}