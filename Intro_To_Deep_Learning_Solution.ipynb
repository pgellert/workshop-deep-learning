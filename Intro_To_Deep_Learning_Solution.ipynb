{
  "nbformat": 4,
  "nbformat_minor": 0,
  "metadata": {
    "colab": {
      "name": "Intro_To_Deep_Learning.ipynb",
      "version": "0.3.2",
      "provenance": [],
      "collapsed_sections": []
    },
    "kernelspec": {
      "display_name": "Python 3",
      "language": "python",
      "name": "python3"
    }
  },
  "cells": [
    {
      "metadata": {
        "id": "R9Dcw7yC_FTM",
        "colab_type": "text"
      },
      "cell_type": "markdown",
      "source": [
        "# Intro to Deep Learning\n",
        "\n",
        "This notebook accompanies the Intro to Deep Learning workshop run by Hackers at Cambridge\n",
        "\n",
        "TODO: Fill in the code corresponding the comments, and replace the variables set to None."
      ]
    },
    {
      "metadata": {
        "id": "0FSW41K5_FTN",
        "colab_type": "text"
      },
      "cell_type": "markdown",
      "source": [
        "## Importing Data and Dependencies\n",
        "\n",
        "\n",
        "First, we will import the dependencies - **numpy**, a python library we'll be using for matrix multplication, and **matplotlib** for visualisation purposes.\n",
        "\n",
        "We'll import the datasets using nice loader functions from **sklearn**.\n",
        "\n",
        "\n",
        "To run a cell, hover over the [    ] next to each cell and click the play button on the left - the number in the [   ]  tells you the order of execution (1, 2, 3 etc.)"
      ]
    },
    {
      "metadata": {
        "id": "w2tsb3eK_FTP",
        "colab_type": "code",
        "colab": {}
      },
      "cell_type": "code",
      "source": [
        "import numpy as np\n",
        "import matplotlib.pyplot as plt\n",
        "from sklearn.datasets import load_boston,load_breast_cancer\n"
      ],
      "execution_count": 0,
      "outputs": []
    },
    {
      "metadata": {
        "id": "ozNhjbuS_FTT",
        "colab_type": "text"
      },
      "cell_type": "markdown",
      "source": [
        "We'll load the house dataset, using the **load_boston(return_X_y=True)** function. This returns our inputs $X$ and our labels $y$ as a tuple.\n",
        "If you read them in, you'll notice they're not the right dimensions, so you'll need to reshape them. We have $m=506$ examples and $n=13$ features. \n",
        "\n",
        "We want to store $X$ in a $n$ x $m$ matrix (currently it is $m$ x $n$), and $y$ in a $1$ x $m$ matrix - currently it is a $m$ dimensional vector\n",
        "\n",
        "\n",
        "It is also good practice to normalise the data: $\\mu$ = mean, $\\sigma$ = standard deviation *across examples*.\n",
        "\n",
        "$$X = \\frac{X-\\mu}{\\sigma}$$\n",
        "\n",
        "as this speeds up learning.\n",
        "\n",
        "Finally, split the data into training and test data sets (80:20 split)- we'll keep the test data to the side to evaluate our model at the end.\n",
        "\n",
        "Rather than hardcoding dimensions like 506, 13 etc, extract the dimensions from the X.shape tuple and use them - this will allow you to reuse the code for different datasets.\n",
        "\n",
        "### Useful functions:\n",
        "\n",
        "          A.shape #return a tuple consisting of A's dimensions\n",
        "          \n",
        "          A = np.reshape(A, (b,c)) # reshapes A into a b x c matrix - (b,c) = tuple of dimensions\n",
        "          A.T  #returns the transpose of A (flips rows and columns)\n",
        "          \n",
        "          np.mean(A, axis=1, keepdims=True) # takes the mean of A across axis 1, keepdims=True ensures number of dimensions is same. if we have a (a,b) dimensional array then using axis=0 returns a (1,b) dimensional array\n",
        "          \n",
        "                   \n",
        "         np.std(A, axis=1, keepdims=True) #ditto but with standard deviation\n",
        "       \n",
        "       A[2:5, :] # we can take slices - e.g. this will return all the columns of the rows 2-4 \n",
        "\n",
        "\n"
      ]
    },
    {
      "metadata": {
        "id": "XUe4J9h8BRwd",
        "colab_type": "code",
        "colab": {}
      },
      "cell_type": "code",
      "source": [
        "X,y = load_boston(return_X_y=True)\n",
        "\n",
        "# reshape to make sure dimensions are right \n",
        "X = X.T\n",
        "y = np.reshape(y,(1,y.shape[0]))\n",
        "\n",
        "\n",
        "#normalise the data\n",
        "X = (X-np.mean(X, axis=1, keepdims=True))/np.std(X, axis=1, keepdims=True)\n",
        "\n",
        "#split data into train and test set\n",
        "X_train = X[:, 0:(4*X.shape[1])//5]\n",
        "Y_train = y[:, 0:(4*X.shape[1])//5]\n",
        "\n",
        "X_test = X[:, (4*X.shape[1])//5:]\n",
        "Y_test = y[:, (4*X.shape[1])//5:]\n"
      ],
      "execution_count": 0,
      "outputs": []
    },
    {
      "metadata": {
        "id": "MlgvijIVTWFW",
        "colab_type": "code",
        "colab": {
          "base_uri": "https://localhost:8080/",
          "height": 85
        },
        "outputId": "683705b7-3ae3-4da4-9d19-52a74f859195"
      },
      "cell_type": "code",
      "source": [
        "print(X_train.shape)\n",
        "print(Y_train.shape)\n",
        "print(X_test.shape)\n",
        "print(Y_test.shape)"
      ],
      "execution_count": 35,
      "outputs": [
        {
          "output_type": "stream",
          "text": [
            "(13, 404)\n",
            "(1, 404)\n",
            "(13, 102)\n",
            "(1, 102)\n"
          ],
          "name": "stdout"
        }
      ]
    },
    {
      "metadata": {
        "id": "Pe4zmPEu_FTc",
        "colab_type": "text"
      },
      "cell_type": "markdown",
      "source": [
        "## Creating the neural network:\n",
        "\n",
        "Having preprocessed our data into matrices, it is now time to create the feedforward neural network. "
      ]
    },
    {
      "metadata": {
        "id": "sUfdUeJQ_FTd",
        "colab_type": "text"
      },
      "cell_type": "markdown",
      "source": [
        "First we need to initialise parameters: the weights and biases for each layer.\n",
        "\n",
        "The weights for layer *$l$* are stored in *$ W^{[l]}$*, a *$n_l$ x $n_{(l-1)}$* matrix, where *$n_l$* is the number of units in layer *$l$*. \n",
        "We  initialise the weights randomly to break symmetry, and multiply by 0.001 to ensure weights aren't too large.\n",
        "\n",
        "The biases for layer *$l$* are stored in *$ b^{[l]}$*, which is a *$n_l$ x 1* matrix.\n",
        "\n",
        "### Useful functions:\n",
        "          \n",
        "          np.random.randn(a, b) # creates a random matrix with dimensions (a,b)\n",
        "          np.zeros((a,b))  #matrix of zeros of size (a,b) - note the extra set of brackets!"
      ]
    },
    {
      "metadata": {
        "id": "fQI5mNln_FTf",
        "colab_type": "code",
        "colab": {}
      },
      "cell_type": "code",
      "source": [
        "def initialise_parameters(layers_units): #layers_units = list of number of nodes in each layer\n",
        "    parameters = {}            # create a dictionary containing the parameters\n",
        "    for l in range(1, len(layers_units)):\n",
        "        parameters['W' + str(l)] = 0.001*np.random.randn(layers_units[l], layers_units[l-1])\n",
        "        parameters['b' + str(l)] = np.zeros((layers_units[l], 1))\n",
        "    return parameters"
      ],
      "execution_count": 0,
      "outputs": []
    },
    {
      "metadata": {
        "id": "8kowYO7fwkqP",
        "colab_type": "code",
        "colab": {
          "base_uri": "https://localhost:8080/",
          "height": 255
        },
        "outputId": "e1efd2fc-7e6f-44f7-a39d-1e15c3a02c15"
      },
      "cell_type": "code",
      "source": [
        "print(initialise_parameters([5,5]))"
      ],
      "execution_count": 37,
      "outputs": [
        {
          "output_type": "stream",
          "text": [
            "{'W1': array([[-3.10350853e-04, -7.11487107e-04,  7.40467556e-05,\n",
            "        -8.88787610e-04,  1.86603015e-03],\n",
            "       [-1.68471001e-03,  2.18779990e-04,  1.63263851e-03,\n",
            "         2.12655183e-03,  6.21216406e-04],\n",
            "       [ 3.50859607e-04,  1.12095392e-03, -1.43778377e-03,\n",
            "        -1.02349238e-03,  6.55313250e-04],\n",
            "       [-9.20248892e-04,  2.50578871e-04,  7.54463454e-05,\n",
            "        -3.73693934e-04,  3.61502659e-04],\n",
            "       [-4.57624022e-04,  8.23962539e-04,  3.61721423e-04,\n",
            "         1.86239030e-03, -7.76621202e-04]]), 'b1': array([[0.],\n",
            "       [0.],\n",
            "       [0.],\n",
            "       [0.],\n",
            "       [0.]])}\n"
          ],
          "name": "stdout"
        }
      ]
    },
    {
      "metadata": {
        "id": "QBvP-WeS_FTi",
        "colab_type": "text"
      },
      "cell_type": "markdown",
      "source": [
        "### Activation Functions:\n",
        "\n",
        "The activation function $g(z)$ we will be using is the ReLU function $g(z) = max(0,z)$ in the hidden layers.\n",
        "\n",
        "Another one is sigmoid : $\\sigma(z) = \\frac{1}{1 + e^{-z}}$\n",
        "\n",
        "NB: Although the ReLU function is technically non-differentiable when $z=0$, in practice we can set the derivative=0 at $z=0$.\n",
        "\n",
        "\n",
        "###Useful functions:\n",
        "      \n",
        "      np.exp(z) #exponentiates z element-wise\n",
        "      A>c  #compares each element of A with c and because this is Python, False=0 , True=1 when multiplying with ints.\n",
        " \n",
        " So if you multiply this with matrix **A** , you can zero-out values where A>c is false."
      ]
    },
    {
      "metadata": {
        "id": "-zS22wKC_FTj",
        "colab_type": "code",
        "colab": {}
      },
      "cell_type": "code",
      "source": [
        "def sigmoid(z):\n",
        "    return 1/(1+np.exp(-z))\n",
        "\n",
        "def relu(z, deriv = False):\n",
        "    if(deriv):  #This is for gradients - do this when you do next section!\n",
        "        #if z>0: return 1\n",
        "        #else: return 0;  #gradient = 1 if z>0, 0 otherwise\n",
        "        return z>0\n",
        "    else:\n",
        "        np.multiply(z, z>0)\n",
        "        #if z<=0: return 0\n",
        "        #else: return z"
      ],
      "execution_count": 0,
      "outputs": []
    },
    {
      "metadata": {
        "id": "zSadXFitzWNr",
        "colab_type": "code",
        "colab": {
          "base_uri": "https://localhost:8080/",
          "height": 34
        },
        "outputId": "1c47bbc6-0dae-4138-9319-a2b00703f373"
      },
      "cell_type": "code",
      "source": [
        "sigmoid(.001)\n",
        "relu(-12, True)"
      ],
      "execution_count": 39,
      "outputs": [
        {
          "output_type": "execute_result",
          "data": {
            "text/plain": [
              "False"
            ]
          },
          "metadata": {
            "tags": []
          },
          "execution_count": 39
        }
      ]
    },
    {
      "metadata": {
        "id": "Xdw2iwNX_FTl",
        "colab_type": "text"
      },
      "cell_type": "markdown",
      "source": [
        "We can now write the code for the forward propagation step.\n",
        "\n",
        "In each layer $l$ , we matrix multiply the output of the previous layer $A^{(l-1)}$  by a weight matrix $W^{(l)}$ and then add a bias term $b^{(l)}$. We then take the result $Z^{(l)}$ and apply the activation function $g(z)$ to it to get the output $A^{(l)}$. $L$ = number of layers.\n",
        "The equations are thus:\n",
        "$$Z^{(l)}=W^{[l]}A^{([l-1]} + b^{[l]}$$\n",
        "$$A^{[l]}=g(Z^{[l]})$$\n",
        " \n",
        "Here, we have $g(z) = ReLU(z)$\n",
        "\n",
        "### Useful functions:\n",
        "          \n",
        "          C = A.dot(B) #matrix multiplies A, B\n",
        "          C = np.dot(A,B) #equivalent operation\n",
        "          \n",
        "         \n",
        "\n"
      ]
    },
    {
      "metadata": {
        "id": "G1mGl8Ol_FTl",
        "colab_type": "code",
        "colab": {}
      },
      "cell_type": "code",
      "source": [
        "def forward_propagation(X,parameters):\n",
        "    cache = {} #stores all our intermediate calculations since \n",
        "    L = len(parameters)//2 #final layer\n",
        "    cache[\"A0\"] = X #ease of notation since input = layer 0\n",
        "    for l in range(1, L):\n",
        "        cache['Z' + str(l)] = np.dot(parameters['W' + str(l)], cache['A' + str(l-1)]) + parameters['b' + str(l)]\n",
        "        cache['A' + str(l)] = relu(cache['Z' + str(l)]) #use relu as activation function\n",
        "    #final layer\n",
        "    cache['Z' + str(L)] = np.dot(parameters['W' + str(L)], cache['A' + str(L-1)]) + parameters['b' + str(L)]\n",
        "    cache['A' + str(L)] = cache['Z' + str(L)] #no activation function for last layer \n",
        "    return cache "
      ],
      "execution_count": 0,
      "outputs": []
    },
    {
      "metadata": {
        "id": "YGpzgt2I0ySq",
        "colab_type": "code",
        "colab": {
          "base_uri": "https://localhost:8080/",
          "height": 34
        },
        "outputId": "8f8734b5-183c-439b-a045-42cc4c0701f4"
      },
      "cell_type": "code",
      "source": [
        "1/2"
      ],
      "execution_count": 41,
      "outputs": [
        {
          "output_type": "execute_result",
          "data": {
            "text/plain": [
              "0.5"
            ]
          },
          "metadata": {
            "tags": []
          },
          "execution_count": 41
        }
      ]
    },
    {
      "metadata": {
        "id": "jwuBdFF9_FTo",
        "colab_type": "text"
      },
      "cell_type": "markdown",
      "source": [
        "## Implementing the Learning \n",
        "\n",
        "\n",
        "Next we can compute the loss function - this is the objective function the neural network will aim to minimise during training:\n",
        "\n",
        "$m$ = number of training examples, $(x^{(i)},y^{(i)})$ is the $i^{th}$ training example, $a^{[L](i)}$ is the output of the final layer $L$ for that $i^{th}$ training example.\n",
        "\n",
        "\n",
        "**Mean Squared Error:**\n",
        "\n",
        "$$ J(W^{(1)}, b^{(1)},...) = \\frac{1}{2m} \\sum_{i=1}^{m} (a^{[L](i)} - y^{(i)})^2 $$\n",
        "\n",
        "### Useful functions:\n",
        "          \n",
        "         np.square(A) #square each element in A\n",
        "\n",
        "          np.sum(A, axis=1, keepdims= True) # just like mean and std, take sum along axis 1\n",
        "\n"
      ]
    },
    {
      "metadata": {
        "id": "h614AF-__FTp",
        "colab_type": "code",
        "colab": {}
      },
      "cell_type": "code",
      "source": [
        "def cost_function(AL,Y):\n",
        "    m = Y.shape[1]\n",
        "    cost = 1/2/m*np.sum(np.square(AL-Y), axis=1, keepdims= True)\n",
        "    return cost"
      ],
      "execution_count": 0,
      "outputs": []
    },
    {
      "metadata": {
        "id": "GTMg3uoB_FTs",
        "colab_type": "text"
      },
      "cell_type": "markdown",
      "source": [
        "### Backpropagation:\n",
        "\n",
        "Calculating the gradients:\n",
        "\n",
        "For the final layer:\n",
        "\n",
        "$$\\frac{\\partial \\mathcal{J} }{\\partial Z^{(L)}} = A^{(L)} - Y$$ \n",
        "\n",
        "\n",
        "For a general layer $l$, \n",
        "\n",
        "$$ \\frac{\\partial \\mathcal{J} }{\\partial Z^{[l]}} = \\frac{\\partial \\mathcal{J} }{\\partial A^{[l]}}*g^{'}(Z^{[l]})$$\n",
        "\n",
        "$$ \\frac{\\partial \\mathcal{J} }{\\partial W^{[l]}} = \\frac{1}{m}\\frac{\\partial \\mathcal{J} }{\\partial Z^{[l]}} A^{[l-1] T} $$\n",
        "\n",
        "$$ \\frac{\\partial \\mathcal{J} }{\\partial b^{(l)}} = \\frac{1}{m} \\sum_{i = 1}^{m} \\frac{\\partial \\mathcal{J} }{\\partial Z^{(l)(i)}}$$\n",
        "\n",
        "$$ \\frac{\\partial \\mathcal{J} }{\\partial A^{[l-1]}} = W^{[l] T} \\frac{\\partial \\mathcal{J} }{\\partial Z^{[l]}} $$\n",
        "\n",
        "\n",
        "\n",
        "\n",
        "If you are keen, it's a good exercise to derive them yourself or alternatively check this [post](https://mukul-rathi.github.io/2018/08/31/Backpropagation.html) for a deeper dive into the intuition behind it.\n",
        "\n",
        "### Useful functions:\n",
        "          np.sum(A, axis=1, keepdims= True) # just like mean and std, take sum along axis 1\n",
        "          \n",
        "          A.dot(B) # matrix multiplication returns A.B\n",
        "          \n",
        "         A*B #returns elementwise multiplication (useful for last equation)\n",
        "​\n",
        "​"
      ]
    },
    {
      "metadata": {
        "id": "JMoNeqUU_FTt",
        "colab_type": "code",
        "colab": {}
      },
      "cell_type": "code",
      "source": [
        "def backpropagation(cache,Y,parameters):\n",
        "    L = len(parameters)//2 \n",
        "    m = Y.shape[1]\n",
        "    grads = {}\n",
        "    \n",
        "    #code up the last layer explicitly\n",
        "    grads[\"dZ\" + str(L)]= cache['A' + str(L)]-Y\n",
        "    grads[\"dW\" + str(L)]= 1/m*np.dot(grads[\"dZ\" + str(L)], cache[\"A\" + str(L-1)].T)\n",
        "    grads[\"db\" + str(L)]= 1/m*np.sum(grads[\"dZ\" + str(L)], axis=1, keepdims= True)\n",
        "    for l in range(L-1,0,-1): \n",
        "        grads[\"dA\" + str(l)]= np.dot(parameters[\"W\" + str(l+1)].T, grads[\"dZ\" + str(l+1)])\n",
        "        grads[\"dZ\" + str(l)]= np.multiply(grads[\"dA\" + str(l)], relu(cache['Z' + str(l)], deriv = True))\n",
        "        grads[\"dW\" + str(l)]= 1/m*np.dot(grads[\"dZ\" + str(l)], cache[\"A\" + str(l-1)].T)\n",
        "        grads[\"db\" + str(l)]= 1/m*np.sum(grads[\"dZ\" + str(l)], axis=1, keepdims= True)\n",
        "    return grads"
      ],
      "execution_count": 0,
      "outputs": []
    },
    {
      "metadata": {
        "collapsed": true,
        "id": "FtDypLdm_FTz",
        "colab_type": "text"
      },
      "cell_type": "markdown",
      "source": [
        "### Gradient Descent\n",
        "\n",
        "Now let's combine the functions created so far to create a model and train it using  gradient descent. \n",
        "\n",
        "The update equations for the parameters are as follows:\n",
        "$$ W^{[l]} = W^{[l]} - \\alpha \\frac{\\partial \\mathcal{J} }{\\partial W^{[l]}} $$\n",
        "\n",
        "$$ b^{[l]} = b^{[l]} - \\alpha \\frac{\\partial \\mathcal{J} }{\\partial b^{[l]}} $$\n",
        "\n",
        "where $\\alpha$ is the learning rate parameter."
      ]
    },
    {
      "metadata": {
        "id": "DPXbsDfq_FTz",
        "colab_type": "code",
        "colab": {}
      },
      "cell_type": "code",
      "source": [
        "def train_model(X_train, Y_train,num_epochs,layers_units,learning_rate): #epoch = one cycle through the dataset\n",
        "    train_costs = []\n",
        "    \n",
        "    #Initialise the parameters\n",
        "    parameters = initialise_parameters(layers_units)\n",
        "    \n",
        "    L = len(layers_units)-1 \n",
        "    for epoch in range (num_epochs):\n",
        "        \n",
        "        #run one step of forward propagation\n",
        "        cache = forward_propagation(X_train, parameters)\n",
        "        \n",
        "        #calculate the cost\n",
        "        cost = cost_function(cache['A' + str(L)], Y_train)\n",
        "        \n",
        "        #get gradients using backpropagation\n",
        "        grads = backpropagation(cache, Y_train, parameters)\n",
        "\n",
        "        #iterate through each layer and update the parameters using gradient descent \n",
        "        #hint:  weight at layer l  = parameters[\"W\"+ str(l)]  \n",
        "        for l in range(1, L+1):\n",
        "            parameters[\"W\"+ str(l)] = parameters[\"W\"+ str(l)] - learning_rate*grads['dW' + str(l)]\n",
        "            parameters[\"b\"+ str(l)] = parameters[\"b\"+ str(l)] - learning_rate*grads['db' + str(l)]\n",
        "\n",
        "        #periodically output an update on the current cost and performance on the training set for visualisation\n",
        "        train_costs.append(cost)\n",
        "        if(epoch%(num_epochs//10)==0):\n",
        "            print(\"Training the model, epoch: \" + str(epoch+1))\n",
        "            print(\"Cost after epoch \" + str((epoch)) + \": \" + str(cost))\n",
        "    print(\"Training complete!\")\n",
        "    #return the trained parameters and the visualisation metrics\n",
        "    return parameters, train_costs"
      ],
      "execution_count": 0,
      "outputs": []
    },
    {
      "metadata": {
        "id": "lhvigzxs_FT1",
        "colab_type": "text"
      },
      "cell_type": "markdown",
      "source": [
        "To evaluate the model, we'll visualise the training set error over the number of iterations. We then output the final value of the evaluation metric for training and test sets. (I've used *matplotlib* to plot the graph)."
      ]
    },
    {
      "metadata": {
        "id": "z6Pfr4gB_FT1",
        "colab_type": "code",
        "colab": {}
      },
      "cell_type": "code",
      "source": [
        "def evaluate_model(train_costs,parameters,X_train, Y_train, X_test, Y_test):\n",
        "    #plot the graphs of training set error\n",
        "    plt.plot(np.squeeze(train_costs))\n",
        "    plt.ylabel('Cost')\n",
        "    plt.xlabel('Iterations')\n",
        "    plt.title(\"Training Set Error\")\n",
        "    plt.show()\n",
        "    L = len(parameters)//2\n",
        "    \n",
        "    #For train and test sets, perform a step of forward propagation to obtain the trained model's \n",
        "    #predictions and evaluate this\n",
        "    \n",
        "    train_cache = forward_propagation(X_train,parameters)\n",
        "    train_AL = train_cache[\"A\"+ str(L)]\n",
        "    \n",
        "    print(\"The train set MSE is: \"+str(cost_function(train_AL,Y_train)))\n",
        "        \n",
        "    test_cache = forward_propagation(X_test,parameters)\n",
        "    test_AL = test_cache[\"A\"+ str(L)]\n",
        "    \n",
        "    print(\"The test set MSE is: \"+str(cost_function(test_AL,Y_test)))\n",
        "    "
      ],
      "execution_count": 0,
      "outputs": []
    },
    {
      "metadata": {
        "id": "7qHYA2ql8kX-",
        "colab_type": "text"
      },
      "cell_type": "markdown",
      "source": [
        "## Training the model\n",
        "\n",
        "Now it's time to train the model using our helper functions.\n",
        "\n",
        "Let's define our hyperparameters - I encourage you to play around with these - e.g. add more layers, change number of iterations.\n",
        "\n",
        "You might find the model does much worse on the test set - this is called **overfitting** - again you can read up more about it [here](https://mukul-rathi.github.io/2018/09/02/DebuggingLearningCurve.html)\n",
        "\n"
      ]
    },
    {
      "metadata": {
        "id": "vQwKmiqV_FT6",
        "colab_type": "code",
        "colab": {}
      },
      "cell_type": "code",
      "source": [
        "#define the hyperparameters for the model - \"tuning knobs\"\n",
        "\n",
        "num_epochs = 150000 #number of passes through the training set\n",
        "layers_units = [X.shape[0], 1] #layer 0 is the input layer - each value in list = number of nodes in that layer\n",
        "learning_rate = 1e-4 #size of our step\n"
      ],
      "execution_count": 0,
      "outputs": []
    },
    {
      "metadata": {
        "id": "few8mbeH_FT8",
        "colab_type": "code",
        "colab": {
          "base_uri": "https://localhost:8080/",
          "height": 374
        },
        "outputId": "8f7b6650-ec2e-44aa-895d-efe4ff5280d4"
      },
      "cell_type": "code",
      "source": [
        "parameters, train_costs = train_model(X_train, Y_train ,num_epochs,layers_units,learning_rate)         "
      ],
      "execution_count": 47,
      "outputs": [
        {
          "output_type": "stream",
          "text": [
            "Training the model, epoch: 1\n",
            "Cost after epoch 0: [[334.99247015]]\n",
            "Training the model, epoch: 15001\n",
            "Cost after epoch 15000: [[29.08852826]]\n",
            "Training the model, epoch: 30001\n",
            "Cost after epoch 30000: [[15.17628052]]\n",
            "Training the model, epoch: 45001\n",
            "Cost after epoch 45000: [[13.17651453]]\n",
            "Training the model, epoch: 60001\n",
            "Cost after epoch 60000: [[12.56990404]]\n",
            "Training the model, epoch: 75001\n",
            "Cost after epoch 75000: [[12.24485843]]\n",
            "Training the model, epoch: 90001\n",
            "Cost after epoch 90000: [[12.02906895]]\n",
            "Training the model, epoch: 105001\n",
            "Cost after epoch 105000: [[11.87626118]]\n",
            "Training the model, epoch: 120001\n",
            "Cost after epoch 120000: [[11.76512841]]\n",
            "Training the model, epoch: 135001\n",
            "Cost after epoch 135000: [[11.68291072]]\n",
            "Training complete!\n"
          ],
          "name": "stdout"
        }
      ]
    },
    {
      "metadata": {
        "id": "HxRFpsk0Kd9D",
        "colab_type": "code",
        "colab": {
          "base_uri": "https://localhost:8080/",
          "height": 410
        },
        "outputId": "c5b5b162-d6d5-4008-ad3f-6018146ccabc"
      },
      "cell_type": "code",
      "source": [
        "evaluate_model(train_costs,parameters,X_train, Y_train, X_test, Y_test)"
      ],
      "execution_count": 48,
      "outputs": [
        {
          "output_type": "display_data",
          "data": {
            "image/png": "[encoded data removed]",
            "text/plain": [
              "<matplotlib.figure.Figure at 0x7f6c14435550>"
            ]
          },
          "metadata": {
            "tags": []
          }
        },
        {
          "output_type": "stream",
          "text": [
            "The train set MSE is: [[11.6212149]]\n",
            "The test set MSE is: [[10.66646041]]\n"
          ],
          "name": "stdout"
        }
      ]
    },
    {
      "metadata": {
        "id": "2U7b7ebN9cRP",
        "colab_type": "text"
      },
      "cell_type": "markdown",
      "source": [
        "## Summary and Extensions:\n",
        "\n",
        "You've just trained your first deep learning model! As an extension, try running the code again, but this time, use the **load_cancer()** function instead of **load boston()**. This is a dataset that classifies breast cancer as malignant/benign.\n",
        "\n",
        "Remember that sigmoid function in the lectures? We can use it to predict probabilities for classification, so all you need to do is apply it to the output of the final layer.\n",
        "\n",
        "A couple of other minor tweaks - for classification, the network uses the **cross-entropy loss** as a cost function instead of mean-square error, and you'll want to print out accuracy not MSE in the evaluation function. \n",
        "\n",
        "But the cool thing is that the network structure is the **same**! The same network, just with a sigmoid function applied to the output, can be trained on a *completely different task* and still work.\n",
        "\n",
        "That's the power of deep learning! Stay tuned for future workshops on specialised deep learning models for computer vision and natural language processing. If you want to dive deeper, head over to the [blog](http://mukul-rathi.github.io/blog.html)."
      ]
    },
    {
      "metadata": {
        "id": "SI2k1ZTt_PRV",
        "colab_type": "code",
        "colab": {
          "base_uri": "https://localhost:8080/",
          "height": 34
        },
        "outputId": "e19c53b8-c29c-47c8-9af2-833525684db2"
      },
      "cell_type": "code",
      "source": [
        "print(\"Have a good day!\")"
      ],
      "execution_count": 49,
      "outputs": [
        {
          "output_type": "stream",
          "text": [
            "Have a good day!\n"
          ],
          "name": "stdout"
        }
      ]
    }
  ]
}